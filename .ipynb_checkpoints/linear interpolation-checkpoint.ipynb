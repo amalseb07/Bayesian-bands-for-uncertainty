{
 "cells": [
  {
   "cell_type": "code",
   "execution_count": 9,
   "id": "31a2e528",
   "metadata": {},
   "outputs": [],
   "source": [
    "import numpy as np\n",
    "import pandas as pd\n",
    "import corner\n",
    "import matplotlib.pyplot as plt\n",
    "import scipy\n",
    "import csv"
   ]
  },
  {
   "cell_type": "code",
   "execution_count": 12,
   "id": "a1f99b79",
   "metadata": {},
   "outputs": [
    {
     "name": "stdout",
     "output_type": "stream",
     "text": [
      "[1.341 1.641 1.941 2.241 2.541 2.841 3.141 3.441 3.741 4.041 4.341 4.641\n",
      " 4.941 5.241 5.541 5.841 6.141 6.441]\n",
      "[4.4642469e-08 2.1417449e-08 3.0064271e-08 1.4119474e-08 1.4170475e-08\n",
      " 1.6503236e-08 1.5904115e-08 2.8677555e-08 1.2044566e-08 1.0822393e-08\n",
      " 1.2346848e-08 1.9457129e-08 3.3177496e-08 4.3603556e-08 4.0886103e-08\n",
      " 3.6623238e-08 3.1313128e-08 1.1291703e-07]\n"
     ]
    }
   ],
   "source": [
    "df=pd.read_csv(\"gsf_300(6,9).csv\")\n",
    "        \n",
    "array1=df[\"energy\"].values # as numpy array\n",
    "array2=df[\"gsf\"].values # as python array\n",
    "\n",
    "print(array1)\n",
    "\n",
    "print(array2)"
   ]
  },
  {
   "cell_type": "code",
   "execution_count": 21,
   "id": "72f08136",
   "metadata": {},
   "outputs": [
    {
     "name": "stdout",
     "output_type": "stream",
     "text": [
      "[1.00e-03 2.00e-03 5.00e-03 1.00e-02 2.00e-02 5.00e-02 1.00e-01 2.00e-01\n",
      " 3.00e-01 4.00e-01 5.00e-01 6.00e-01 7.00e-01 8.00e-01 9.00e-01 1.00e+00\n",
      " 1.10e+00 1.20e+00 1.30e+00 1.40e+00 1.50e+00 1.60e+00 1.70e+00 1.80e+00\n",
      " 1.90e+00 2.00e+00 2.20e+00 2.40e+00 2.60e+00 2.80e+00 3.00e+00 3.20e+00\n",
      " 3.40e+00 3.60e+00 3.80e+00 4.00e+00 4.50e+00 5.00e+00 5.50e+00 6.00e+00\n",
      " 6.50e+00 7.00e+00 7.50e+00 8.00e+00 8.50e+00 9.00e+00 9.50e+00 1.00e+01\n",
      " 1.05e+01 1.10e+01 1.15e+01 1.20e+01 1.25e+01 1.30e+01 1.35e+01 1.40e+01\n",
      " 1.45e+01 1.50e+01 1.55e+01 1.60e+01 1.65e+01 1.70e+01 1.75e+01 1.80e+01\n",
      " 1.85e+01 1.90e+01 1.95e+01 2.00e+01 2.10e+01]\n"
     ]
    },
    {
     "data": {
      "text/plain": [
       "'\\nif start_value not in df2[\\'energy\\'].values:\\n    raise ValueError(f\"Start value {start_value} not found in the column.\")\\nif end_value not in df2[\\'energy\\'].values:\\n    raise ValueError(f\"End value {end_value} not found in the column.\")\\n\\n\\n# Find the indices of the start and end values\\nstart_index = df2[df2[\\'energy\\'] == start_value].index[0]\\nend_index = df2[df2[\\'energy\\'] == end_value].index[0]\\n\\n# Extract the column values based on the range and step size\\ncolumn_array = df2[\\'column_name\\'].iloc[start_index:end_index+1:step_size].values\\n\\nprint(column_array)\\n'"
      ]
     },
     "execution_count": 21,
     "metadata": {},
     "output_type": "execute_result"
    }
   ],
   "source": [
    "df2=pd.read_csv(\"gsf_300(6,9)_talys.csv\")\n",
    "\n",
    "\n",
    "# Specify the start value, end value, and step size\n",
    "start_value = 1.300  # Replace with your desired start value\n",
    "end_value = 6.400    # Replace with your desired end value\n",
    "step_size = 3\n",
    "\n",
    "\n",
    "arr1=df2[\"energy\"].values\n",
    "\n",
    "print(arr1)\n",
    "\n",
    "'''\n",
    "if start_value not in df2['energy'].values:\n",
    "    raise ValueError(f\"Start value {start_value} not found in the column.\")\n",
    "if end_value not in df2['energy'].values:\n",
    "    raise ValueError(f\"End value {end_value} not found in the column.\")\n",
    "\n",
    "\n",
    "# Find the indices of the start and end values\n",
    "start_index = df2[df2['energy'] == start_value].index[0]\n",
    "end_index = df2[df2['energy'] == end_value].index[0]\n",
    "\n",
    "# Extract the column values based on the range and step size\n",
    "column_array = df2['column_name'].iloc[start_index:end_index+1:step_size].values\n",
    "\n",
    "print(column_array)\n",
    "'''"
   ]
  },
  {
   "cell_type": "code",
   "execution_count": 24,
   "id": "d7254e52",
   "metadata": {},
   "outputs": [
    {
     "name": "stdout",
     "output_type": "stream",
     "text": [
      "[3.4 3.8 4.2 6.6]\n"
     ]
    }
   ],
   "source": [
    "import numpy as np\n",
    "\n",
    "x = [1, 2, 3]\n",
    "y = [3, 5, 9]\n",
    "\n",
    "x_new = [1.2,1.4,1.6,2.4]\n",
    "y_new = np.interp(x_new, x, y)\n",
    "\n",
    "print(y_new)  # Output: 5.0\n",
    "\n",
    "\n",
    "\n"
   ]
  },
  {
   "cell_type": "code",
   "execution_count": null,
   "id": "da32c22b",
   "metadata": {},
   "outputs": [],
   "source": []
  }
 ],
 "metadata": {
  "kernelspec": {
   "display_name": "Python 3 (ipykernel)",
   "language": "python",
   "name": "python3"
  },
  "language_info": {
   "codemirror_mode": {
    "name": "ipython",
    "version": 3
   },
   "file_extension": ".py",
   "mimetype": "text/x-python",
   "name": "python",
   "nbconvert_exporter": "python",
   "pygments_lexer": "ipython3",
   "version": "3.9.12"
  }
 },
 "nbformat": 4,
 "nbformat_minor": 5
}
